{
 "cells": [
  {
   "cell_type": "code",
   "execution_count": 7,
   "metadata": {},
   "outputs": [
    {
     "name": "stdout",
     "output_type": "stream",
     "text": [
      "Hola Bienvendo a Python Karol\n"
     ]
    }
   ],
   "source": [
    "nombre = input(\"Ingrese su nombre por favor: \")\n",
    "print(\"Hola Bienvendo a Python\", nombre)"
   ]
  },
  {
   "cell_type": "code",
   "execution_count": null,
   "metadata": {},
   "outputs": [],
   "source": [
    "num1 = float(input(\"Ingresa el primer número:\"))\n",
    "num2 = float(input(\"Ingresa el segundo número:\"))\n",
    "resultado = num1 + num2\n",
    "print (resultado) "
   ]
  },
  {
   "cell_type": "code",
   "execution_count": null,
   "metadata": {},
   "outputs": [],
   "source": [
    "num1 = float(input(\"ingresa el primer numero:\"))\n",
    "num2 = float(input(\"ingresa el segundo numero:\"))\n",
    "resultado = num1 - num2 \n",
    "print(resultado)"
   ]
  },
  {
   "cell_type": "code",
   "execution_count": null,
   "metadata": {},
   "outputs": [],
   "source": [
    "num1 = float(input(\"Ingresa el primer número:\"))\n",
    "num2 = float(input(\"Ingresa el segundo número:\"))\n",
    "print (\"Tu Resultado es:\")\n",
    "resultado = num1 * num2\n",
    "print (resultado)"
   ]
  }
 ],
 "metadata": {
  "kernelspec": {
   "display_name": "base",
   "language": "python",
   "name": "python3"
  },
  "language_info": {
   "codemirror_mode": {
    "name": "ipython",
    "version": 3
   },
   "file_extension": ".py",
   "mimetype": "text/x-python",
   "name": "python",
   "nbconvert_exporter": "python",
   "pygments_lexer": "ipython3",
   "version": "3.9.13"
  },
  "orig_nbformat": 4
 },
 "nbformat": 4,
 "nbformat_minor": 2
}
