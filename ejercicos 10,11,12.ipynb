{
 "cells": [
  {
   "cell_type": "code",
   "execution_count": 7,
   "metadata": {},
   "outputs": [
    {
     "name": "stdout",
     "output_type": "stream",
     "text": [
      "   Sueldo  Retención   ISSS     AFP  Total del descuento  Sueldo Total\n",
      "0  1234.0      246.8  37.02  89.465              373.285       860.715\n"
     ]
    }
   ],
   "source": [
    "import pandas as pd\n",
    "\n",
    "ISSS = 0.03\n",
    "AFP = 0.0725\n",
    "\n",
    "def calcular_descuentos(sueldo):\n",
    "    if sueldo <= 0:\n",
    "        raise ValueError(\"El sueldo debe ser mayor que cero.\")\n",
    "    elif sueldo <= 472.01:\n",
    "        descuento_deretencion = 0\n",
    "    elif sueldo <= 895.24:\n",
    "        descuento_deretencion = sueldo * 0.1\n",
    "    elif sueldo <= 2038.10:\n",
    "        descuento_deretencion = sueldo * 0.2\n",
    "    else:\n",
    "        descuento_deretencion = sueldo * 0.3\n",
    "\n",
    "    descuento_ISSS = sueldo * ISSS\n",
    "    descuento_AFP = sueldo * AFP\n",
    "    total_descuentos = descuento_ISSS + descuento_AFP + descuento_deretencion\n",
    "    sueldo_neto = sueldo - total_descuentos\n",
    "    \n",
    "    return [descuento_deretencion, descuento_ISSS, descuento_AFP, total_descuentos, sueldo_neto]\n",
    "\n",
    "sueldo = float(input('Ingrese su sueldo: '))\n",
    "\n",
    "try:\n",
    "    descuentos = calcular_descuentos(sueldo)\n",
    "    grafico = pd.DataFrame({\n",
    "        'Sueldo': [sueldo],\n",
    "        'Retención': [descuentos[0]],\n",
    "        'ISSS': [descuentos[1]],\n",
    "        'AFP': [descuentos[2]],\n",
    "        'Total del descuento': [descuentos[3]],\n",
    "        'Sueldo Total': [descuentos[4]],\n",
    "    })\n",
    "\n",
    "    print(grafico)\n",
    "    \n",
    "except ValueError as error:\n",
    "    print(\"Error\")"
   ]
  },
  {
   "cell_type": "code",
   "execution_count": 13,
   "metadata": {},
   "outputs": [
    {
     "name": "stdout",
     "output_type": "stream",
     "text": [
      "La cantidad a pagar es de: $ 14.4\n"
     ]
    }
   ],
   "source": [
    "metros_cubicos = int(input(\"Ingrese la cantidad de metros cúbicos consumidos: \"))\n",
    "\n",
    "if metros_cubicos <= 18:\n",
    "    cantidad_pagar = 6\n",
    "elif metros_cubicos <= 28:\n",
    "    cantidad_pagar = 6 + (metros_cubicos - 18) * 0.45\n",
    "else:\n",
    "    cantidad_pagar = 6 + 4.5 + (metros_cubicos - 28) * 0.65\n",
    "\n",
    "print(\"La cantidad a pagar es de: $\", cantidad_pagar)"
   ]
  },
  {
   "cell_type": "code",
   "execution_count": 15,
   "metadata": {},
   "outputs": [
    {
     "name": "stdout",
     "output_type": "stream",
     "text": [
      "Hola, por favor siga las instrucciones\n",
      "\n",
      "    Ahora, dime ¿qué deseas hacer?\n",
      "    \n",
      "    1) Suma\n",
      "    2) Resta\n",
      "    3) Multiplicación\n",
      "    4) Dividisión\n",
      "    5) Cambiar los números elegidos\n",
      "    6) Apagar calculadora\n",
      "    \n",
      " \n",
      "RESULTADO: El producto de 23.0 * 44.0 es igual a 1012.0\n",
      "\n",
      "    Ahora, dime ¿qué deseas hacer?\n",
      "    \n",
      "    1) Suma\n",
      "    2) Resta\n",
      "    3) Multiplicación\n",
      "    4) Dividisión\n",
      "    5) Cambiar los números elegidos\n",
      "    6) Apagar calculadora\n",
      "    \n"
     ]
    },
    {
     "ename": "KeyboardInterrupt",
     "evalue": "Interrupted by user",
     "output_type": "error",
     "traceback": [
      "\u001b[1;31m---------------------------------------------------------------------------\u001b[0m",
      "\u001b[1;31mKeyboardInterrupt\u001b[0m                         Traceback (most recent call last)",
      "\u001b[1;32m~\\AppData\\Local\\Temp\\ipykernel_14116\\429959674.py\u001b[0m in \u001b[0;36m<module>\u001b[1;34m\u001b[0m\n\u001b[0;32m     15\u001b[0m     6) Apagar calculadora\n\u001b[0;32m     16\u001b[0m     \"\"\")\n\u001b[1;32m---> 17\u001b[1;33m     \u001b[0mopcion\u001b[0m \u001b[1;33m=\u001b[0m \u001b[0mint\u001b[0m\u001b[1;33m(\u001b[0m\u001b[0minput\u001b[0m\u001b[1;33m(\u001b[0m\u001b[1;34m\"Elige una opción: \"\u001b[0m\u001b[1;33m)\u001b[0m \u001b[1;33m)\u001b[0m\u001b[1;33m\u001b[0m\u001b[1;33m\u001b[0m\u001b[0m\n\u001b[0m\u001b[0;32m     18\u001b[0m \u001b[1;33m\u001b[0m\u001b[0m\n\u001b[0;32m     19\u001b[0m     \u001b[1;32mif\u001b[0m \u001b[0mopcion\u001b[0m \u001b[1;33m==\u001b[0m \u001b[1;36m1\u001b[0m\u001b[1;33m:\u001b[0m\u001b[1;33m\u001b[0m\u001b[1;33m\u001b[0m\u001b[0m\n",
      "\u001b[1;32mc:\\Users\\Admin\\anaconda3\\lib\\site-packages\\ipykernel\\kernelbase.py\u001b[0m in \u001b[0;36mraw_input\u001b[1;34m(self, prompt)\u001b[0m\n\u001b[0;32m   1175\u001b[0m                 \u001b[1;34m\"raw_input was called, but this frontend does not support input requests.\"\u001b[0m\u001b[1;33m\u001b[0m\u001b[1;33m\u001b[0m\u001b[0m\n\u001b[0;32m   1176\u001b[0m             )\n\u001b[1;32m-> 1177\u001b[1;33m         return self._input_request(\n\u001b[0m\u001b[0;32m   1178\u001b[0m             \u001b[0mstr\u001b[0m\u001b[1;33m(\u001b[0m\u001b[0mprompt\u001b[0m\u001b[1;33m)\u001b[0m\u001b[1;33m,\u001b[0m\u001b[1;33m\u001b[0m\u001b[1;33m\u001b[0m\u001b[0m\n\u001b[0;32m   1179\u001b[0m             \u001b[0mself\u001b[0m\u001b[1;33m.\u001b[0m\u001b[0m_parent_ident\u001b[0m\u001b[1;33m[\u001b[0m\u001b[1;34m\"shell\"\u001b[0m\u001b[1;33m]\u001b[0m\u001b[1;33m,\u001b[0m\u001b[1;33m\u001b[0m\u001b[1;33m\u001b[0m\u001b[0m\n",
      "\u001b[1;32mc:\\Users\\Admin\\anaconda3\\lib\\site-packages\\ipykernel\\kernelbase.py\u001b[0m in \u001b[0;36m_input_request\u001b[1;34m(self, prompt, ident, parent, password)\u001b[0m\n\u001b[0;32m   1217\u001b[0m             \u001b[1;32mexcept\u001b[0m \u001b[0mKeyboardInterrupt\u001b[0m\u001b[1;33m:\u001b[0m\u001b[1;33m\u001b[0m\u001b[1;33m\u001b[0m\u001b[0m\n\u001b[0;32m   1218\u001b[0m                 \u001b[1;31m# re-raise KeyboardInterrupt, to truncate traceback\u001b[0m\u001b[1;33m\u001b[0m\u001b[1;33m\u001b[0m\u001b[0m\n\u001b[1;32m-> 1219\u001b[1;33m                 \u001b[1;32mraise\u001b[0m \u001b[0mKeyboardInterrupt\u001b[0m\u001b[1;33m(\u001b[0m\u001b[1;34m\"Interrupted by user\"\u001b[0m\u001b[1;33m)\u001b[0m \u001b[1;32mfrom\u001b[0m \u001b[1;32mNone\u001b[0m\u001b[1;33m\u001b[0m\u001b[1;33m\u001b[0m\u001b[0m\n\u001b[0m\u001b[0;32m   1220\u001b[0m             \u001b[1;32mexcept\u001b[0m \u001b[0mException\u001b[0m\u001b[1;33m:\u001b[0m\u001b[1;33m\u001b[0m\u001b[1;33m\u001b[0m\u001b[0m\n\u001b[0;32m   1221\u001b[0m                 \u001b[0mself\u001b[0m\u001b[1;33m.\u001b[0m\u001b[0mlog\u001b[0m\u001b[1;33m.\u001b[0m\u001b[0mwarning\u001b[0m\u001b[1;33m(\u001b[0m\u001b[1;34m\"Invalid Message:\"\u001b[0m\u001b[1;33m,\u001b[0m \u001b[0mexc_info\u001b[0m\u001b[1;33m=\u001b[0m\u001b[1;32mTrue\u001b[0m\u001b[1;33m)\u001b[0m\u001b[1;33m\u001b[0m\u001b[1;33m\u001b[0m\u001b[0m\n",
      "\u001b[1;31mKeyboardInterrupt\u001b[0m: Interrupted by user"
     ]
    }
   ],
   "source": [
    "print(\"Hola, por favor siga las instrucciones\")\n",
    "n1 = float(input(\"Inserte tu primer número: \") )\n",
    "n2 = float(input(\"Insertetu segundo número: \") )\n",
    "\n",
    "opcion = 0\n",
    "while True:\n",
    "    print(\"\"\"\n",
    "    Ahora, dime ¿qué deseas hacer?\n",
    "    \n",
    "    1) Suma\n",
    "    2) Resta\n",
    "    3) Multiplicación\n",
    "    4) Dividisión\n",
    "    5) Cambiar los números elegidos\n",
    "    6) Apagar calculadora\n",
    "    \"\"\")\n",
    "    opcion = int(input(\"Elige una opción: \") )     \n",
    "\n",
    "    if opcion == 1:\n",
    "        print(\" \")\n",
    "        print(\"RESULTADO: La suma de\",n1,\"+\",n2,\"es igual a\",n1+n2)\n",
    "    elif opcion == 2:\n",
    "        print(\" \")\n",
    "        print(\"RESULTADO: La resta de\",n1,\"-\",n2,\"es igual a\",n1-n2)\n",
    "    elif opcion == 3:\n",
    "        print(\" \")\n",
    "        print(\"RESULTADO: El producto de\",n1,\"*\",n2,\"es igual a\",n1*n2)\n",
    "    elif opcion == 4:\n",
    "        print(\" \")\n",
    "        print(\"RESULTADO: El producto de\",n1,\"/\",n2,\"es igual a\",n1/n2)\n",
    "    elif opcion == 5:\n",
    "        n1 = float(input(\"Introduce tu primer número: \") )\n",
    "        n2 = float(input(\"Introduce tu segundo número: \") )\n",
    "    elif opcion == 6:\n",
    "        break\n",
    "    else:\n",
    "        print(\"Opción incorrecta\")\n"
   ]
  }
 ],
 "metadata": {
  "kernelspec": {
   "display_name": "base",
   "language": "python",
   "name": "python3"
  },
  "language_info": {
   "name": "python",
   "version": "3.9.13"
  },
  "orig_nbformat": 4
 },
 "nbformat": 4,
 "nbformat_minor": 2
}
